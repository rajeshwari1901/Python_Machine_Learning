{
  "nbformat": 4,
  "nbformat_minor": 0,
  "metadata": {
    "colab": {
      "provenance": []
    },
    "kernelspec": {
      "name": "python3",
      "display_name": "Python 3"
    },
    "language_info": {
      "name": "python"
    }
  },
  "cells": [
    {
      "cell_type": "code",
      "execution_count": null,
      "metadata": {
        "colab": {
          "base_uri": "https://localhost:8080/"
        },
        "id": "7riNiqDtGXRU",
        "outputId": "c433bdb5-026c-4bba-a0d4-243d7812cb38"
      },
      "outputs": [
        {
          "output_type": "stream",
          "name": "stdout",
          "text": [
            "my name is sihi\n"
          ]
        }
      ],
      "source": [
        " a=\"sihi\"\n",
        "print(f\"my name is {a}\")"
      ]
    },
    {
      "cell_type": "markdown",
      "source": [
        "\n",
        "\n",
        "#**python syntax & structure**\n",
        "\n",
        "\n",
        "\n",
        "\n"
      ],
      "metadata": {
        "id": "m9kzl-JVGYGE"
      }
    },
    {
      "cell_type": "markdown",
      "source": [
        "##Basic syntax rules"
      ],
      "metadata": {
        "id": "ibeJ0V_TGwnL"
      }
    },
    {
      "cell_type": "code",
      "source": [
        "print(\"hello world\")#Function call\n",
        "x=5 #Varibles\n",
        "y=10 #No need to declare type\n"
      ],
      "metadata": {
        "colab": {
          "base_uri": "https://localhost:8080/"
        },
        "id": "HoHscKCeG2wD",
        "outputId": "fa1437b2-7517-4911-d211-d9da75c593e0"
      },
      "execution_count": null,
      "outputs": [
        {
          "output_type": "stream",
          "name": "stdout",
          "text": [
            "hello world\n"
          ]
        }
      ]
    },
    {
      "cell_type": "markdown",
      "source": [
        "##Python in case-sensitive"
      ],
      "metadata": {
        "id": "mWafrqOnHVUT"
      }
    },
    {
      "cell_type": "code",
      "source": [
        "Name=\"sihi\"\n",
        "name=\"siri\"\n",
        "print(\"Name is\",Name)\n",
        "print(\"Name is\",name)\n",
        "print(Name,name) #different varibles"
      ],
      "metadata": {
        "colab": {
          "base_uri": "https://localhost:8080/"
        },
        "id": "4BzRQ56hHjvr",
        "outputId": "9b773ab1-8387-427c-9281-84add64b126e"
      },
      "execution_count": null,
      "outputs": [
        {
          "output_type": "stream",
          "name": "stdout",
          "text": [
            "Name is sihi\n",
            "Name is siri\n",
            "sihi siri\n"
          ]
        }
      ]
    },
    {
      "cell_type": "markdown",
      "source": [
        "##Indentation matters"
      ],
      "metadata": {
        "id": "F833aH_3IGxE"
      }
    },
    {
      "cell_type": "code",
      "source": [
        "if x>0:\n",
        "  print(\"x is positive\") #4 spaces indentation\n",
        "  print(\"this is inside the if block\")"
      ],
      "metadata": {
        "colab": {
          "base_uri": "https://localhost:8080/"
        },
        "id": "M5Y3MM4KIK1D",
        "outputId": "106569af-7e70-405b-e4de-cf98edabc6b9"
      },
      "execution_count": null,
      "outputs": [
        {
          "output_type": "stream",
          "name": "stdout",
          "text": [
            "x is positive\n",
            "this is inside the if block\n"
          ]
        }
      ]
    },
    {
      "cell_type": "markdown",
      "source": [
        "##**Variables & Datatypes**"
      ],
      "metadata": {
        "id": "nXaIfoT0IePL"
      }
    },
    {
      "cell_type": "markdown",
      "source": [
        "###Numeric Types"
      ],
      "metadata": {
        "id": "m6UPF3pRJfcr"
      }
    },
    {
      "cell_type": "code",
      "source": [
        "age=25 #integer\n",
        "height=5.6 #Float\n",
        "complex_num=2+3j #Complex"
      ],
      "metadata": {
        "id": "l53cY6BvJlJr"
      },
      "execution_count": null,
      "outputs": []
    },
    {
      "cell_type": "markdown",
      "source": [
        "###String Types"
      ],
      "metadata": {
        "id": "KjsPYz8BJzJb"
      }
    },
    {
      "cell_type": "code",
      "source": [
        "name=\"sihi\"\n",
        "message='hellooo'\n",
        "multiline='''This is\n",
        "           multiline string type'''\n",
        "print(age,message,multiline)\n"
      ],
      "metadata": {
        "colab": {
          "base_uri": "https://localhost:8080/"
        },
        "id": "I-pfc-pFJ2Xr",
        "outputId": "d7dbb8d3-03b5-483c-d4be-49b0727aa8e8"
      },
      "execution_count": null,
      "outputs": [
        {
          "output_type": "stream",
          "name": "stdout",
          "text": [
            "25 hellooo This is\n",
            "           multiline string type\n"
          ]
        }
      ]
    },
    {
      "cell_type": "markdown",
      "source": [
        "###Boolean Type"
      ],
      "metadata": {
        "id": "_WMT-DsDKfHs"
      }
    },
    {
      "cell_type": "code",
      "source": [
        "is_actived=True\n",
        "is_finished=False"
      ],
      "metadata": {
        "id": "TdBS0yKDNSVz"
      },
      "execution_count": null,
      "outputs": []
    },
    {
      "cell_type": "markdown",
      "source": [
        "###Type Checking"
      ],
      "metadata": {
        "id": "cHbNYrAZNZgj"
      }
    },
    {
      "cell_type": "code",
      "source": [
        "print(type(age)) #<class 'int'>\n",
        "print(type(height)) #<class 'float>\n",
        "print(type(name)) #<class 'str'>"
      ],
      "metadata": {
        "colab": {
          "base_uri": "https://localhost:8080/"
        },
        "id": "472a0szfNdmz",
        "outputId": "7b7f5227-4e93-48dc-89e5-3b56d40a0551"
      },
      "execution_count": null,
      "outputs": [
        {
          "output_type": "stream",
          "name": "stdout",
          "text": [
            "<class 'int'>\n",
            "<class 'float'>\n",
            "<class 'str'>\n"
          ]
        }
      ]
    },
    {
      "cell_type": "markdown",
      "source": [
        "###Type Conversion"
      ],
      "metadata": {
        "id": "c_5iGpN4N3k0"
      }
    },
    {
      "cell_type": "code",
      "source": [
        "str_number=123\n",
        "int_number=int(str_number)\n",
        "float_number=float(str_number)\n",
        "\n",
        "print(f\"Original:{str_number} (type:{type(str_number)})\")\n",
        "print(f\"Integer:{int_number} (type:{type(int_number)})\")\n",
        "print(f\"Float:{float_number} (type:{type(float_number)})\")"
      ],
      "metadata": {
        "colab": {
          "base_uri": "https://localhost:8080/"
        },
        "id": "E5KGLSjBN9J7",
        "outputId": "4854b039-0139-44ec-faf5-d2161006276a"
      },
      "execution_count": null,
      "outputs": [
        {
          "output_type": "stream",
          "name": "stdout",
          "text": [
            "Original:123 (type:<class 'int'>)\n",
            "Integer:123 (type:<class 'int'>)\n",
            "Float:123.0 (type:<class 'float'>)\n"
          ]
        }
      ]
    },
    {
      "cell_type": "markdown",
      "source": [
        "#**Hands-On Exercise:**"
      ],
      "metadata": {
        "id": "x53pMuO4f77p"
      }
    },
    {
      "cell_type": "markdown",
      "source": [
        "Exercise 1:Personal Information"
      ],
      "metadata": {
        "id": "8o15m7MQgPao"
      }
    },
    {
      "cell_type": "markdown",
      "source": [
        "###create variables for personal information"
      ],
      "metadata": {
        "id": "BTLtUzpSgWiA"
      }
    },
    {
      "cell_type": "code",
      "source": [
        "first_name=\"Rajeshwari\"\n",
        "last_name=\"NK\"\n",
        "age=20\n",
        "height=5.5\n",
        "is_student=True"
      ],
      "metadata": {
        "id": "y_LcTaBuh6RZ"
      },
      "execution_count": null,
      "outputs": []
    },
    {
      "cell_type": "markdown",
      "source": [
        "###print formatted information"
      ],
      "metadata": {
        "id": "ksmbc82yiS2Y"
      }
    },
    {
      "cell_type": "code",
      "source": [
        "print(f\"Name:{first_name} {last_name}\")\n",
        "print(f\"Age:{age}\")\n",
        "print(f\"Height:{height}\")\n",
        "print(f\"Student:{is_student}\")"
      ],
      "metadata": {
        "colab": {
          "base_uri": "https://localhost:8080/"
        },
        "id": "owaqCjGligOQ",
        "outputId": "aba2eed3-cb50-43d2-f146-d4be60a208e7"
      },
      "execution_count": null,
      "outputs": [
        {
          "output_type": "stream",
          "name": "stdout",
          "text": [
            "Name:Rajeshwari NK\n",
            "Age:20\n",
            "Height:5.5\n",
            "Student:True\n"
          ]
        }
      ]
    },
    {
      "cell_type": "markdown",
      "source": [
        "###Type conversion"
      ],
      "metadata": {
        "id": "Ckl-TsnRkHwI"
      }
    },
    {
      "cell_type": "code",
      "source": [
        "age_str=str(age)\n",
        "height_int=int(height)\n",
        "print(f\"Age as string:{age_str}\")\n",
        "print(f\"Height as string:{height_int} \")"
      ],
      "metadata": {
        "colab": {
          "base_uri": "https://localhost:8080/"
        },
        "id": "q2DHJ5uskKlx",
        "outputId": "ea5dd050-83f7-4438-ae98-501edc826732"
      },
      "execution_count": null,
      "outputs": [
        {
          "output_type": "stream",
          "name": "stdout",
          "text": [
            "Age as string:20\n",
            "Height as string:5 \n"
          ]
        }
      ]
    },
    {
      "cell_type": "markdown",
      "source": [
        "#**Operators & Basic Operations**"
      ],
      "metadata": {
        "id": "J6aoN2xMkzSB"
      }
    },
    {
      "cell_type": "markdown",
      "source": [
        "##Arithmetic Operator"
      ],
      "metadata": {
        "id": "aWlgti8UmEPi"
      }
    },
    {
      "cell_type": "code",
      "source": [
        "a=10\n",
        "b=3\n",
        "\n",
        "print(f\"Addition:{a}+{b}={a+b}\")\n",
        "print(f\"Subtraction:{a}-{b}={a-b}\")\n",
        "print(f\"Multiplication:{a}*{b}={a*b}\")\n",
        "print(f\"Division:{a}/{b}={a/b}\")\n",
        "print(f\"Floor division:{a}//{b}={a//b}\")\n",
        "print(f\"Modulus:{a}%{b}={a%b}\")\n",
        "print(f\"Exponentiation:{a}**{b}={a**b}\")\n"
      ],
      "metadata": {
        "colab": {
          "base_uri": "https://localhost:8080/"
        },
        "id": "F9wtjaGkmxZI",
        "outputId": "57d31c83-cce1-4611-c06f-c37b8d2224f3"
      },
      "execution_count": null,
      "outputs": [
        {
          "output_type": "stream",
          "name": "stdout",
          "text": [
            "Addition:10+3=13\n",
            "Subtraction:10-3=7\n",
            "Multiplication:10*3=30\n",
            "Division:10/3=3.3333333333333335\n",
            "Floor division:10//3=3\n",
            "Modulus:10%3=1\n",
            "Exponentiation:10**3=1000\n"
          ]
        }
      ]
    },
    {
      "cell_type": "markdown",
      "source": [
        "###Order Of Operations(PEMDAS)\n",
        "\n",
        "\n",
        "* Parentheses\n",
        "* Exponentiation\n",
        "* Multiplication\n",
        "* Division\n",
        "* Addition\n",
        "* Subtraction\n",
        "\n",
        "\n",
        "\n"
      ],
      "metadata": {
        "id": "vboTekQMnppJ"
      }
    },
    {
      "cell_type": "code",
      "source": [
        "result=2+3*4**2-1\n",
        "print(f\"2+3*4**2-1={result}\")"
      ],
      "metadata": {
        "colab": {
          "base_uri": "https://localhost:8080/"
        },
        "id": "wZBzJiJtpCux",
        "outputId": "9e085582-73db-4107-ae15-86532d6f6978"
      },
      "execution_count": null,
      "outputs": [
        {
          "output_type": "stream",
          "name": "stdout",
          "text": [
            "2+3*4**2-1=49\n"
          ]
        }
      ]
    },
    {
      "cell_type": "markdown",
      "source": [
        "##Relational or Comparison Operator"
      ],
      "metadata": {
        "id": "XN12m_FypSry"
      }
    },
    {
      "cell_type": "code",
      "source": [
        "x=5\n",
        "y=10\n",
        "\n",
        "print(f\"{x}=={y}:{x==y}\") #equals to\n",
        "print(f\"{x}!={y}:{x!=y}\") # not equals\n",
        "print(f\"{x}<{y}:{x<y}\") #less than\n",
        "print(f\"{x}>{y}:{x>y}\") #greater than\n",
        "print(f\"{x}<={y}:{x<=y}\") #less than or equals\n",
        "print(f\"{x}>={y}:{x>=y}\") #greater than or equals"
      ],
      "metadata": {
        "colab": {
          "base_uri": "https://localhost:8080/"
        },
        "id": "FM6fFQRTpdVR",
        "outputId": "3412de55-1b60-4e74-c709-217ace537338"
      },
      "execution_count": null,
      "outputs": [
        {
          "output_type": "stream",
          "name": "stdout",
          "text": [
            "5==10:False\n",
            "5!=10:True\n",
            "5<10:True\n",
            "5>10:False\n",
            "5<=10:True\n",
            "5>=10:False\n"
          ]
        }
      ]
    },
    {
      "cell_type": "markdown",
      "source": [
        "###string comparison\n",
        "\n",
        "\n"
      ],
      "metadata": {
        "id": "YKomGKWRtj8o"
      }
    },
    {
      "cell_type": "code",
      "source": [
        "name1=\"Alice\"\n",
        "name2=\"Bob\"\n",
        "print(f\"'{name1}'<'{name2}':{name1<name2}\") #alphabetical order"
      ],
      "metadata": {
        "colab": {
          "base_uri": "https://localhost:8080/"
        },
        "id": "KqWxy-D7toO5",
        "outputId": "8aea98e0-6f01-45dd-8655-6e033c99374d"
      },
      "execution_count": null,
      "outputs": [
        {
          "output_type": "stream",
          "name": "stdout",
          "text": [
            "'Alice'<'Bob':True\n"
          ]
        }
      ]
    },
    {
      "cell_type": "markdown",
      "source": [
        "##Logical Operators"
      ],
      "metadata": {
        "id": "XNsoWT2bvEg5"
      }
    },
    {
      "cell_type": "code",
      "source": [
        "p=True\n",
        "q=False\n",
        "\n",
        "print(f\"p and q:{p and q}\") #both must be True\n",
        "print(f\"p or q:{p or q}\") # atleast one must be True\n",
        "print(f\"not p:{not p}\") #opposite of p"
      ],
      "metadata": {
        "colab": {
          "base_uri": "https://localhost:8080/"
        },
        "id": "sxnc_lvavKJh",
        "outputId": "36e7b89e-5255-4564-d489-da7dd1bacbe6"
      },
      "execution_count": null,
      "outputs": [
        {
          "output_type": "stream",
          "name": "stdout",
          "text": [
            "p and q:False\n",
            "p or q:True\n",
            "not p:False\n"
          ]
        }
      ]
    },
    {
      "cell_type": "code",
      "source": [
        "#Pratical Example\n",
        "age=20\n",
        "has_license=True\n",
        "can_drive=age>=18 and has_license\n",
        "print(f\"can_drive:{can_drive}\")"
      ],
      "metadata": {
        "colab": {
          "base_uri": "https://localhost:8080/"
        },
        "id": "lNrHn7oAw-1h",
        "outputId": "5f78c3e4-d733-4319-86e9-d35bfba68d6d"
      },
      "execution_count": null,
      "outputs": [
        {
          "output_type": "stream",
          "name": "stdout",
          "text": [
            "can_drive:True\n"
          ]
        }
      ]
    },
    {
      "cell_type": "code",
      "source": [
        "#Multiple Conditions\n",
        "score=85\n",
        "is_present=True\n",
        "can_pass=score>=80 and is_present\n",
        "print(f\"can_pass:{can_pass}\")"
      ],
      "metadata": {
        "colab": {
          "base_uri": "https://localhost:8080/"
        },
        "id": "lh15fFlaxcHR",
        "outputId": "2b3bfeb2-26a5-4fc4-a948-47bedda70d9f"
      },
      "execution_count": null,
      "outputs": [
        {
          "output_type": "stream",
          "name": "stdout",
          "text": [
            "can_pass:True\n"
          ]
        }
      ]
    },
    {
      "cell_type": "markdown",
      "source": [
        "#**Hands-on Exercise**\n",
        "Exercise2 : Simple Calculator\n",
        "\n",
        "Create a Calculator that checks if a person qualifies for a loan\n",
        "\n",
        "\n"
      ],
      "metadata": {
        "id": "pYhmFKTOynYK"
      }
    },
    {
      "cell_type": "code",
      "source": [
        "# Personal Information\n",
        "age=50\n",
        "annual_income=50000\n",
        "credit_score=720\n",
        "has_collateral=True\n"
      ],
      "metadata": {
        "id": "t4ouDw1ezR06"
      },
      "execution_count": null,
      "outputs": []
    },
    {
      "cell_type": "code",
      "source": [
        "#Loan criteria\n",
        "min_age=18\n",
        "min_income=30000\n",
        "min_credit_score=650"
      ],
      "metadata": {
        "id": "hdXcUuaEzhdJ"
      },
      "execution_count": null,
      "outputs": []
    },
    {
      "cell_type": "code",
      "source": [
        "#check qualification\n",
        "age_qualified=age>=min_age\n",
        "income_qualified=annual_income>=min_income\n",
        "credit_qualified=credit_score>=min_credit_score\n",
        "overall_qualified=age_qualified and income_qualified and credit_qualified"
      ],
      "metadata": {
        "id": "tc9WQ-P-4INK"
      },
      "execution_count": null,
      "outputs": []
    },
    {
      "cell_type": "code",
      "source": [
        "age=50\n",
        "annual_income=50000\n",
        "credit_score=720\n",
        "has_collateral=True\n",
        "qualify_for=age>18 and has_collateral\n",
        "income_for=annual_income>30000 and has_collateral\n",
        "credit_for=credit_score>650 and has_collateral\n",
        "print(f\"Age:{qualify_for}\")\n",
        "print(f\"Annual_income:{income_for}\")\n",
        "print(f\"Credit_score:{credit_for}\")"
      ],
      "metadata": {
        "colab": {
          "base_uri": "https://localhost:8080/"
        },
        "id": "fwYu0MIA0cfq",
        "outputId": "086ffab4-156a-4c25-c489-4ffddee59b55"
      },
      "execution_count": null,
      "outputs": [
        {
          "output_type": "stream",
          "name": "stdout",
          "text": [
            "Age:True\n",
            "Annual_income:True\n",
            "Credit_score:True\n"
          ]
        }
      ]
    },
    {
      "cell_type": "code",
      "source": [
        "# Loan Qualification Calculator\n",
        "\n",
        "# Personal Information\n",
        "age = 50\n",
        "annual_income = 50000\n",
        "credit_score = 720\n",
        "has_collateral = True\n",
        "\n",
        "# Loan Criteria\n",
        "min_age = 18\n",
        "min_income = 30000\n",
        "min_credit_score = 650\n",
        "\n",
        "def check_loan_eligibility(age, income, credit_score, has_collateral):\n",
        "    print(\"Loan Eligibility Result\")\n",
        "\n",
        "    if age < min_age:\n",
        "        print(\"Not eligible: Age below minimum requirement.\")\n",
        "    elif income < min_income:\n",
        "        print(\"Not eligible: Income below minimum requirement.\")\n",
        "    elif credit_score < min_credit_score:\n",
        "        print(\" Not eligible: Credit score below minimum requirement.\")\n",
        "    else:\n",
        "        print(\"Eligible for loan.\")\n",
        "        if has_collateral:\n",
        "            print(\"Collateral provided: May help secure better loan terms!\")\n",
        "\n",
        "check_loan_eligibility(age, annual_income, credit_score, has_collateral)\n"
      ],
      "metadata": {
        "colab": {
          "base_uri": "https://localhost:8080/"
        },
        "id": "n5oGohY1sLTy",
        "outputId": "d0c52cdb-9e23-4589-b352-7c4d9934e854"
      },
      "execution_count": null,
      "outputs": [
        {
          "output_type": "stream",
          "name": "stdout",
          "text": [
            "Loan Eligibility Result\n",
            "Eligible for loan.\n",
            "Collateral provided: May help secure better loan terms!\n"
          ]
        }
      ]
    },
    {
      "cell_type": "markdown",
      "source": [
        "#**DataStructure**"
      ],
      "metadata": {
        "id": "FKwhAk13-58y"
      }
    },
    {
      "cell_type": "markdown",
      "source": [
        "##**List**"
      ],
      "metadata": {
        "id": "0qsFRIB7-9Jj"
      }
    },
    {
      "cell_type": "markdown",
      "source": [
        "####creating lists"
      ],
      "metadata": {
        "id": "NvbnLxSn_AYy"
      }
    },
    {
      "cell_type": "code",
      "source": [
        "fruits=[\"apple\",\"banana\",\"orange\",\"grape\"]\n",
        "numbers=[10,20,30,40,50]\n",
        "mixed_data=[1,\"hello\",3.142,True]"
      ],
      "metadata": {
        "id": "l0DuhX1T_Qxz"
      },
      "execution_count": null,
      "outputs": []
    },
    {
      "cell_type": "markdown",
      "source": [
        "####list indexing(0-based)"
      ],
      "metadata": {
        "id": "Tp7BO8SM_sNy"
      }
    },
    {
      "cell_type": "code",
      "source": [
        "print(f\"First fruit: {fruits[0]}\")\n",
        "print(f\"Last fruit: {fruits[-1]}\")\n",
        "print(f\"second to Last: {fruits[2]}\")"
      ],
      "metadata": {
        "colab": {
          "base_uri": "https://localhost:8080/"
        },
        "id": "aypna69Y_rjS",
        "outputId": "075462be-c3b8-4d39-c5e8-e251f3176abb"
      },
      "execution_count": null,
      "outputs": [
        {
          "output_type": "stream",
          "name": "stdout",
          "text": [
            "First fruit: apple\n",
            "Last fruit: grape\n",
            "second to Last: orange\n"
          ]
        }
      ]
    },
    {
      "cell_type": "markdown",
      "source": [
        "####list slicing"
      ],
      "metadata": {
        "id": "joBzmPF1A0Tq"
      }
    },
    {
      "cell_type": "code",
      "source": [
        "print(f\"First 2 fruit: {fruits[0:2]}\")\n",
        "print(f\"Last 2 fruit: {fruits[-2:]}\")\n",
        "print(f\"All except first: {fruits[1:]}\")"
      ],
      "metadata": {
        "colab": {
          "base_uri": "https://localhost:8080/"
        },
        "id": "4J80sJLjAziK",
        "outputId": "4bc774fb-5a91-4c59-d337-a8dea057bed4"
      },
      "execution_count": null,
      "outputs": [
        {
          "output_type": "stream",
          "name": "stdout",
          "text": [
            "First 2 fruit: ['apple', 'banana']\n",
            "Last 2 fruit: ['orange', 'grape']\n",
            "All except first: ['banana', 'orange', 'grape']\n"
          ]
        }
      ]
    },
    {
      "cell_type": "markdown",
      "source": [
        "####list methods"
      ],
      "metadata": {
        "id": "vOXMUHjcBKLh"
      }
    },
    {
      "cell_type": "code",
      "source": [
        "fruits.append(\"kiwi\") #add to end\n",
        "fruits.insert(1,\"strawberry\") # insert at index\n",
        "removed=fruits.pop() # remove list\n",
        "print(f\"updated list:{fruits}\")\n",
        "print(f\"removed:{removed}\")"
      ],
      "metadata": {
        "colab": {
          "base_uri": "https://localhost:8080/"
        },
        "id": "gC6Flz3_BKha",
        "outputId": "7960b361-ea55-42fb-8c49-9489933de514"
      },
      "execution_count": null,
      "outputs": [
        {
          "output_type": "stream",
          "name": "stdout",
          "text": [
            "updated list:['apple', 'strawberry', 'banana', 'orange', 'grape']\n",
            "removed:kiwi\n"
          ]
        }
      ]
    },
    {
      "cell_type": "markdown",
      "source": [
        "####list operations"
      ],
      "metadata": {
        "id": "-lFlvAqqBufz"
      }
    },
    {
      "cell_type": "code",
      "source": [
        "print(f\"length:{len(fruits)}\")\n",
        "print(f\"contains 'apple':{'apple' in fruits}\")\n",
        "print(f\"index of 'banana':{fruits.index('banana')}\")"
      ],
      "metadata": {
        "colab": {
          "base_uri": "https://localhost:8080/"
        },
        "id": "7Yo-4C5RBury",
        "outputId": "e3a2ef8c-5941-48e2-abfe-cde53e0e9ec8"
      },
      "execution_count": null,
      "outputs": [
        {
          "output_type": "stream",
          "name": "stdout",
          "text": [
            "length:5\n",
            "contains 'apple':True\n",
            "index of 'banana':2\n"
          ]
        }
      ]
    },
    {
      "cell_type": "markdown",
      "source": [
        "##**Tuples**"
      ],
      "metadata": {
        "id": "vccIVnwzCdXy"
      }
    },
    {
      "cell_type": "markdown",
      "source": [
        "####Tuples are immutable"
      ],
      "metadata": {
        "id": "NawK1ME7DZ1S"
      }
    },
    {
      "cell_type": "code",
      "source": [
        "coordinates=(10,20)\n",
        "rgb_color=(255,128,0)\n",
        "person_info=(\"Alice\",25,\"Engineer\",True)"
      ],
      "metadata": {
        "id": "6t98ZSwPDX37"
      },
      "execution_count": null,
      "outputs": []
    },
    {
      "cell_type": "markdown",
      "source": [
        "####Tuple unpacking"
      ],
      "metadata": {
        "id": "ArLcBbEJEBNZ"
      }
    },
    {
      "cell_type": "code",
      "source": [
        "x,y=coordinates\n",
        "print(f\"x:{x},y:{y}\")"
      ],
      "metadata": {
        "colab": {
          "base_uri": "https://localhost:8080/"
        },
        "id": "HzwchNGnEEgB",
        "outputId": "545972d8-126d-4f0b-d76f-2d86684a3317"
      },
      "execution_count": null,
      "outputs": [
        {
          "output_type": "stream",
          "name": "stdout",
          "text": [
            "x:10,y:20\n"
          ]
        }
      ]
    },
    {
      "cell_type": "markdown",
      "source": [
        "####Tuple methods\n"
      ],
      "metadata": {
        "id": "OyTA9qL5FIs6"
      }
    },
    {
      "cell_type": "code",
      "source": [
        "print(f\"count of 25:{person_info.count(25)}\")\n",
        "print(f\"index of 'Engineer':{person_info.index('Engineer')}\")"
      ],
      "metadata": {
        "colab": {
          "base_uri": "https://localhost:8080/"
        },
        "id": "dOfO2gp8FUxD",
        "outputId": "534a027a-9ad3-4350-b8e3-b0c7201d4789"
      },
      "execution_count": null,
      "outputs": [
        {
          "output_type": "stream",
          "name": "stdout",
          "text": [
            "count of 25:1\n",
            "index of 'Engineer':2\n"
          ]
        }
      ]
    },
    {
      "cell_type": "markdown",
      "source": [
        "####Why use tuples ?\n",
        "\n",
        "*   Immutable(safe for dictionary keys)\n",
        "*   Slightly faster than list\n",
        "*   Good for fixed collections\n",
        "\n",
        "\n",
        "\n",
        "\n"
      ],
      "metadata": {
        "id": "sMTwgt6zFs6i"
      }
    },
    {
      "cell_type": "markdown",
      "source": [
        "##**Dictionary**\n"
      ],
      "metadata": {
        "id": "32kd7eXlELY5"
      }
    },
    {
      "cell_type": "markdown",
      "source": [
        "####Dictionary creation"
      ],
      "metadata": {
        "id": "iGO8bcfPEVmH"
      }
    },
    {
      "cell_type": "code",
      "source": [
        "person={\n",
        "    \"name\":\"Alice\",\n",
        "    \"age\":23,\n",
        "    \"profession\":\"Software Engineer\",\n",
        "    \"salary\":75000,\n",
        "    \"skills\":[\"python\",\"javascript\",\"SQL\"]\n",
        "}"
      ],
      "metadata": {
        "id": "xGAxYDsOEaB4"
      },
      "execution_count": null,
      "outputs": []
    },
    {
      "cell_type": "markdown",
      "source": [
        "####Accessing values"
      ],
      "metadata": {
        "id": "n5tVqEP7FAgp"
      }
    },
    {
      "cell_type": "code",
      "source": [
        "print(f\"Name:{person['name']}\")\n",
        "print(f\"Age:{person.get('age','unknown')}\")#safe access"
      ],
      "metadata": {
        "colab": {
          "base_uri": "https://localhost:8080/"
        },
        "id": "Lqd_pFv-FEjA",
        "outputId": "61ce8d0b-1f13-466b-9584-b470af68abe9"
      },
      "execution_count": null,
      "outputs": [
        {
          "output_type": "stream",
          "name": "stdout",
          "text": [
            "Name:Alice\n",
            "Age:23\n"
          ]
        }
      ]
    },
    {
      "cell_type": "markdown",
      "source": [
        "####Dictionary methods\n"
      ],
      "metadata": {
        "id": "o8mPq4pJF8MB"
      }
    },
    {
      "cell_type": "code",
      "source": [
        "print(f\"keys:{list(person.keys())}\")\n",
        "print(f\"Values:{list(person.values())}\")\n",
        "print(f\"Items:{list(person.items())}\")"
      ],
      "metadata": {
        "colab": {
          "base_uri": "https://localhost:8080/"
        },
        "id": "2urL0mWiF_bQ",
        "outputId": "7c239680-0ab3-41a6-f970-75dd6ed76be7"
      },
      "execution_count": null,
      "outputs": [
        {
          "output_type": "stream",
          "name": "stdout",
          "text": [
            "keys:['name', 'age', 'profession', 'salary', 'skills']\n",
            "Values:['Alice', 23, 'Software Engineer', 75000, ['python', 'javascript', 'SQL']]\n",
            "Items:[('name', 'Alice'), ('age', 23), ('profession', 'Software Engineer'), ('salary', 75000), ('skills', ['python', 'javascript', 'SQL'])]\n"
          ]
        }
      ]
    },
    {
      "cell_type": "markdown",
      "source": [
        "####Adding/Updating"
      ],
      "metadata": {
        "id": "Qz-fklunGPXw"
      }
    },
    {
      "cell_type": "code",
      "source": [
        "person[\"location\"]=\"New york\"\n",
        "person[\"salary\"]=80000 #update existing\n"
      ],
      "metadata": {
        "id": "hbF4qAJgGhfo"
      },
      "execution_count": null,
      "outputs": []
    },
    {
      "cell_type": "markdown",
      "source": [
        "#####Pratical use case:Inventory management"
      ],
      "metadata": {
        "id": "fzTNt-HlGwuQ"
      }
    },
    {
      "cell_type": "code",
      "source": [
        "inventory={\n",
        "    \"laptops\":{\n",
        "        \"quantity\":50,\n",
        "        \"price\":999.99\n",
        "    },\n",
        "    \"phones\":{\n",
        "         \"quantity\":100,\n",
        "        \"price\":599.99\n",
        "        },\n",
        "    \"tablets\":{\n",
        "      \"quantity\":30,\n",
        "        \"price\":399.99\n",
        "    }\n",
        "}"
      ],
      "metadata": {
        "id": "rPlno-9dG3Zg"
      },
      "execution_count": null,
      "outputs": []
    },
    {
      "cell_type": "markdown",
      "source": [
        "####Nested access"
      ],
      "metadata": {
        "id": "Q0ukmViZHqxy"
      }
    },
    {
      "cell_type": "code",
      "source": [
        "print(f\"Laptop price:${inventory['laptops']['price']}\")"
      ],
      "metadata": {
        "colab": {
          "base_uri": "https://localhost:8080/"
        },
        "id": "EqgpJzhUHt6I",
        "outputId": "342628bd-24ef-422d-8966-56baec28df84"
      },
      "execution_count": null,
      "outputs": [
        {
          "output_type": "stream",
          "name": "stdout",
          "text": [
            "Laptop price:$999.99\n"
          ]
        }
      ]
    },
    {
      "cell_type": "markdown",
      "source": [
        "##**Sets**"
      ],
      "metadata": {
        "id": "NZki9BmWH4Hx"
      }
    },
    {
      "cell_type": "markdown",
      "source": [
        "####Sets contain unique elements"
      ],
      "metadata": {
        "id": "cFmzImR7H91x"
      }
    },
    {
      "cell_type": "code",
      "source": [
        "colors={\"red\",\"green\",\"blue\",\"red\"}#duplicate removed\n",
        "print(f\"Colrs:{colors}\")"
      ],
      "metadata": {
        "colab": {
          "base_uri": "https://localhost:8080/"
        },
        "id": "SF9kg_v2IC6p",
        "outputId": "768f2dc0-7d16-4f15-ebba-13b1fbf82912"
      },
      "execution_count": null,
      "outputs": [
        {
          "output_type": "stream",
          "name": "stdout",
          "text": [
            "Colrs:{'blue', 'red', 'green'}\n"
          ]
        }
      ]
    },
    {
      "cell_type": "markdown",
      "source": [
        "####Set operations"
      ],
      "metadata": {
        "id": "sWfsdDZTIQ_4"
      }
    },
    {
      "cell_type": "code",
      "source": [
        "team1_skills={\"python\",\"javascript\",\"SQL\",\"react\"}\n",
        "team2_skills={\"javascript\",\"SQL\",\"java\",\"spring\"}"
      ],
      "metadata": {
        "id": "qygEbCU8IUsp"
      },
      "execution_count": null,
      "outputs": []
    },
    {
      "cell_type": "markdown",
      "source": [
        "####Common operations"
      ],
      "metadata": {
        "id": "TEHWYm_XKHI7"
      }
    },
    {
      "cell_type": "code",
      "source": [
        "print(f\"Common_skills:{team1_skills.intersection(team2_skills)}\")\n",
        "print(f\"All_skills:{team1_skills.union(team2_skills)}\")\n",
        "print(f\"Team1_only:{team1_skills.difference(team2_skills)}\")"
      ],
      "metadata": {
        "colab": {
          "base_uri": "https://localhost:8080/"
        },
        "id": "sHZdApVDKlb6",
        "outputId": "27135032-8c29-42f2-93bd-e55dcca5614d"
      },
      "execution_count": null,
      "outputs": [
        {
          "output_type": "stream",
          "name": "stdout",
          "text": [
            "Common_skills:{'javascript', 'SQL'}\n",
            "All_skills:{'react', 'SQL', 'javascript', 'spring', 'python', 'java'}\n",
            "Team1_only:{'python', 'react'}\n"
          ]
        }
      ]
    },
    {
      "cell_type": "markdown",
      "source": [
        "####Adding to sets"
      ],
      "metadata": {
        "id": "XArsgRmGLYvR"
      }
    },
    {
      "cell_type": "code",
      "source": [
        "colors.add(\"yellow\")\n",
        "colors.update([\"purple\",\"orange\"])\n",
        "print(f\"updated colors:{colors}\")\n"
      ],
      "metadata": {
        "colab": {
          "base_uri": "https://localhost:8080/"
        },
        "id": "LSmV3dHiLbTo",
        "outputId": "891060f0-adad-4c38-e43f-086fc0f87c07"
      },
      "execution_count": null,
      "outputs": [
        {
          "output_type": "stream",
          "name": "stdout",
          "text": [
            "updated colors:{'red', 'green', 'yellow', 'blue', 'purple', 'orange'}\n"
          ]
        }
      ]
    },
    {
      "cell_type": "markdown",
      "source": [
        "#**Control Flow**"
      ],
      "metadata": {
        "id": "c4j61CzKMmgS"
      }
    },
    {
      "cell_type": "markdown",
      "source": [
        "##Conditional Statements"
      ],
      "metadata": {
        "id": "7miwNiPZNRYy"
      }
    },
    {
      "cell_type": "markdown",
      "source": [
        "####Basic if-else\n",
        "\n"
      ],
      "metadata": {
        "id": "PlpNt1k2OHqS"
      }
    },
    {
      "cell_type": "code",
      "source": [
        "def get_grade_letter(score):\n",
        "  if score >=90:\n",
        "    return \"A\"\n",
        "  elif score>=80:\n",
        "    return \"B\"\n",
        "  elif score>=70:\n",
        "    return \"C\"\n",
        "  elif score>=60:\n",
        "    return \"D\"\n",
        "  else:\n",
        "    return \"F\""
      ],
      "metadata": {
        "id": "WWIR4FAyNd3S"
      },
      "execution_count": null,
      "outputs": []
    },
    {
      "cell_type": "markdown",
      "source": [
        "####Test the function"
      ],
      "metadata": {
        "id": "FBQFwn_jQFwS"
      }
    },
    {
      "cell_type": "code",
      "source": [
        "test_scores=[95,83,72,65,58]\n",
        "for score in test_scores:\n",
        "  grade=get_grade_letter(score)\n",
        "  print(f\"Score{score}:Grade{grade}\")"
      ],
      "metadata": {
        "colab": {
          "base_uri": "https://localhost:8080/"
        },
        "id": "TmnakFm6QTKS",
        "outputId": "d3811ac9-6a33-4adb-c074-cd5ea868a3b4"
      },
      "execution_count": null,
      "outputs": [
        {
          "output_type": "stream",
          "name": "stdout",
          "text": [
            "Score95:GradeA\n",
            "Score83:GradeB\n",
            "Score72:GradeC\n",
            "Score65:GradeD\n",
            "Score58:GradeF\n"
          ]
        }
      ]
    },
    {
      "cell_type": "markdown",
      "source": [
        "####Nested conditions"
      ],
      "metadata": {
        "id": "2Nvrk3yQRBui"
      }
    },
    {
      "cell_type": "code",
      "source": [
        "def get_shipping_cost(weight,distance):\n",
        "  base_cost=5.0\n",
        "\n",
        "  if weight<=1:\n",
        "    weight_cost=2.0\n",
        "  elif weight<=5:\n",
        "    weight_cost=5.0\n",
        "  else:\n",
        "    weight_cost=10.0\n",
        "\n",
        "  if distance<=100:\n",
        "    distance_cost=1.0\n",
        "  elif distance<=500:\n",
        "    distance_cost=3.0\n",
        "  else:\n",
        "    distance_cost=7.0\n",
        "  return base_cost + weight_cost + distance_cost"
      ],
      "metadata": {
        "id": "HK5A9NhWRK-T"
      },
      "execution_count": null,
      "outputs": []
    },
    {
      "cell_type": "markdown",
      "source": [
        "####Test shipping costs"
      ],
      "metadata": {
        "id": "gAK10KI4SSH7"
      }
    },
    {
      "cell_type": "code",
      "source": [
        "print(f\"Light,close:${get_shipping_cost(0.5,50)}\")\n",
        "print(f\"Heavy,far:${get_shipping_cost(10,800)}\")"
      ],
      "metadata": {
        "colab": {
          "base_uri": "https://localhost:8080/"
        },
        "id": "tp92WyRCSWx8",
        "outputId": "3e6dadb0-b7ad-49e4-ecb8-3b26dc106603"
      },
      "execution_count": null,
      "outputs": [
        {
          "output_type": "stream",
          "name": "stdout",
          "text": [
            "Light,close:$8.0\n",
            "Heavy,far:$22.0\n"
          ]
        }
      ]
    },
    {
      "cell_type": "markdown",
      "source": [
        "##Loops-For Loop"
      ],
      "metadata": {
        "id": "Ip4r0iUaTI9i"
      }
    },
    {
      "cell_type": "markdown",
      "source": [
        "####Basic for loop"
      ],
      "metadata": {
        "id": "E9VAGYN2Tjhd"
      }
    },
    {
      "cell_type": "code",
      "source": [
        "fruits=[\"apple\",\"banana\",\"orange\",\"grape\"]\n",
        "for fruit in fruits:\n",
        "  print(f\"I like {fruit}\")"
      ],
      "metadata": {
        "colab": {
          "base_uri": "https://localhost:8080/"
        },
        "id": "_pfk-AT_TSDK",
        "outputId": "1affcda4-93fc-4c65-e804-ae50acf7a612"
      },
      "execution_count": null,
      "outputs": [
        {
          "output_type": "stream",
          "name": "stdout",
          "text": [
            "I like apple\n",
            "I like banana\n",
            "I like orange\n",
            "I like grape\n"
          ]
        }
      ]
    },
    {
      "cell_type": "markdown",
      "source": [
        "####Loop with enumerate(get index)"
      ],
      "metadata": {
        "id": "ZIFcP84MWg9E"
      }
    },
    {
      "cell_type": "code",
      "source": [
        "for i, fruit in enumerate(fruits):\n",
        "  print(f\"{i+1}.{fruit}\")"
      ],
      "metadata": {
        "colab": {
          "base_uri": "https://localhost:8080/"
        },
        "id": "Ob1S9iohWwwy",
        "outputId": "0108f45b-4b4d-44c8-b015-a944ac2bc0d6"
      },
      "execution_count": null,
      "outputs": [
        {
          "output_type": "stream",
          "name": "stdout",
          "text": [
            "1.apple\n",
            "2.banana\n",
            "3.orange\n",
            "4.grape\n"
          ]
        }
      ]
    },
    {
      "cell_type": "markdown",
      "source": [
        "####Loop with range"
      ],
      "metadata": {
        "id": "Is65-nACXW7L"
      }
    },
    {
      "cell_type": "code",
      "source": [
        "for day in range(1,8):\n",
        "  print(f\"Day {day} of the week\")"
      ],
      "metadata": {
        "colab": {
          "base_uri": "https://localhost:8080/"
        },
        "id": "3J5CkuN0XZRM",
        "outputId": "a169b509-a4c7-4f80-f1b9-cce30015dc3f"
      },
      "execution_count": null,
      "outputs": [
        {
          "output_type": "stream",
          "name": "stdout",
          "text": [
            "Day 1 of the week\n",
            "Day 2 of the week\n",
            "Day 3 of the week\n",
            "Day 4 of the week\n",
            "Day 5 of the week\n",
            "Day 6 of the week\n",
            "Day 7 of the week\n"
          ]
        }
      ]
    },
    {
      "cell_type": "markdown",
      "source": [
        "####Nested loops-Creating a multiplication table"
      ],
      "metadata": {
        "id": "4yET31Z4YRQl"
      }
    },
    {
      "cell_type": "code",
      "source": [
        "print(\"Multiplication table:\")\n",
        "for i in range(1,6):\n",
        "  for j in range(1,6):\n",
        "    product=i+j\n",
        "    print(f\"{i} x {j} ={product:2d}\",end=\"\")\n",
        "    print() # new line after each row"
      ],
      "metadata": {
        "colab": {
          "base_uri": "https://localhost:8080/"
        },
        "id": "l76IhVuwYXoM",
        "outputId": "2375d645-d803-4b28-f9d7-8bbcd7d7963c"
      },
      "execution_count": null,
      "outputs": [
        {
          "output_type": "stream",
          "name": "stdout",
          "text": [
            "Multiplication table:\n",
            "1 x 1 = 2\n",
            "1 x 2 = 3\n",
            "1 x 3 = 4\n",
            "1 x 4 = 5\n",
            "1 x 5 = 6\n",
            "2 x 1 = 3\n",
            "2 x 2 = 4\n",
            "2 x 3 = 5\n",
            "2 x 4 = 6\n",
            "2 x 5 = 7\n",
            "3 x 1 = 4\n",
            "3 x 2 = 5\n",
            "3 x 3 = 6\n",
            "3 x 4 = 7\n",
            "3 x 5 = 8\n",
            "4 x 1 = 5\n",
            "4 x 2 = 6\n",
            "4 x 3 = 7\n",
            "4 x 4 = 8\n",
            "4 x 5 = 9\n",
            "5 x 1 = 6\n",
            "5 x 2 = 7\n",
            "5 x 3 = 8\n",
            "5 x 4 = 9\n",
            "5 x 5 =10\n"
          ]
        }
      ]
    },
    {
      "cell_type": "markdown",
      "source": [
        "####Processing data with loops"
      ],
      "metadata": {
        "id": "L_wMm2x6ZTss"
      }
    },
    {
      "cell_type": "code",
      "source": [
        "sales_data=[\n",
        "{\"product\":\"Laptop\",\"price\":999,\"quantity\":5},\n",
        "{\"product\":\"phone\",\"price\":599,\"quantity\":10},\n",
        "{\"product\":\"Tablet\",\"price\":399,\"quantity\":8}\n",
        "]\n",
        "\n",
        "total_revenue=0\n",
        "\n",
        "for item in sales_data:\n",
        "  item_revenue=item[\"price\"]*item[\"quantity\"]\n",
        "  total_revenue+=item_revenue\n",
        "  print(f\"{item['product']}:${item_revenue}\")\n",
        "print(f\"Total Revenue:${total_revenue}\")"
      ],
      "metadata": {
        "colab": {
          "base_uri": "https://localhost:8080/"
        },
        "id": "nGogqEs6Za-M",
        "outputId": "5f0f189b-2ac2-48cb-b219-427d3036bb5c"
      },
      "execution_count": null,
      "outputs": [
        {
          "output_type": "stream",
          "name": "stdout",
          "text": [
            "Laptop:$4995\n",
            "phone:$5990\n",
            "Tablet:$3192\n",
            "Total Revenue:$14177\n"
          ]
        }
      ]
    },
    {
      "cell_type": "markdown",
      "source": [
        "##Loops-While loop"
      ],
      "metadata": {
        "id": "B8XWrJjduLVZ"
      }
    },
    {
      "cell_type": "markdown",
      "source": [
        "####While loop for user input simulation"
      ],
      "metadata": {
        "id": "Fx_0tdnsuWTh"
      }
    },
    {
      "cell_type": "code",
      "source": [
        "def simple_guessing_game():\n",
        " target=7\n",
        " guess=0\n",
        " attempts=0\n",
        " print(\"Guess the number between 1 to 10!\")\n",
        "\n",
        " while guess !=target:\n",
        "\n",
        "   #Simulate user input\n",
        "   import random\n",
        "   guess=random.randint(1,10)\n",
        "   attempts+=1\n",
        "\n",
        "   if guess<target:\n",
        "    print(f\"Guess{attempts}:{guess}-Too low!\")\n",
        "   elif guess>target:\n",
        "    print(f\"Guess{attempts}:{guess}-Too high!\")\n",
        "   else:\n",
        "    print(f\"Guess{attempts}:{guess}-Correct!\")\n",
        "\n",
        "    #Safety check\n",
        "    if attempts>10:\n",
        "      print(\"Max attempts reached!\")\n",
        "      break\n",
        "\n",
        "    print(f\"Game finished in{attempts}attempts\")\n",
        "\n",
        "simple_guessing_game()"
      ],
      "metadata": {
        "colab": {
          "base_uri": "https://localhost:8080/"
        },
        "id": "S6fBq17Suet5",
        "outputId": "d162b06e-1fbb-473f-8218-283dbe9ac546"
      },
      "execution_count": null,
      "outputs": [
        {
          "output_type": "stream",
          "name": "stdout",
          "text": [
            "Guess the number between 1 to 10!\n",
            "Guess1:1-Too low!\n",
            "Guess2:2-Too low!\n",
            "Guess3:7-Correct!\n",
            "Game finished in3attempts\n"
          ]
        }
      ]
    },
    {
      "cell_type": "markdown",
      "source": [
        "####While loop for processing"
      ],
      "metadata": {
        "id": "4ILR5EUnvDMh"
      }
    },
    {
      "cell_type": "code",
      "source": [
        "def process_queue():\n",
        "  queue=[\"Task1\",\"Task2\",\"Task3\",\"Task4\"]\n",
        "\n",
        "  while queue:\n",
        "    current_task=queue.pop(0) #remove first item\n",
        "    print(f\"Processing:{current_task}\")\n",
        "\n",
        "    print(f\"Remaining tasks:{len(queue)}\")\n",
        "\n",
        "  print(\"All tasks completed!\")\n",
        "process_queue()"
      ],
      "metadata": {
        "colab": {
          "base_uri": "https://localhost:8080/"
        },
        "id": "NVik5HlDy6mi",
        "outputId": "a999d71a-2e25-4947-cf99-2891554e5280"
      },
      "execution_count": null,
      "outputs": [
        {
          "output_type": "stream",
          "name": "stdout",
          "text": [
            "Processing:Task1\n",
            "Remaining tasks:3\n",
            "Processing:Task2\n",
            "Remaining tasks:2\n",
            "Processing:Task3\n",
            "Remaining tasks:1\n",
            "Processing:Task4\n",
            "Remaining tasks:0\n",
            "All tasks completed!\n"
          ]
        }
      ]
    },
    {
      "cell_type": "markdown",
      "source": [
        "#**Function**"
      ],
      "metadata": {
        "id": "OG5JR2BDz3TK"
      }
    },
    {
      "cell_type": "markdown",
      "source": [
        "##Function Basics"
      ],
      "metadata": {
        "id": "TSEHJa711bQ6"
      }
    },
    {
      "cell_type": "markdown",
      "source": [
        "####Basic function definition"
      ],
      "metadata": {
        "id": "pDRK5eKc13RM"
      }
    },
    {
      "cell_type": "code",
      "source": [
        "def greet(name):\n",
        "  return f\"Hello,{name}!\""
      ],
      "metadata": {
        "id": "QJkqtljp1rDi"
      },
      "execution_count": null,
      "outputs": []
    },
    {
      "cell_type": "markdown",
      "source": [
        "####Function call"
      ],
      "metadata": {
        "id": "CW2LL-sl11dV"
      }
    },
    {
      "cell_type": "code",
      "source": [
        "message=greet(\"python programmer\")\n",
        "print(message)"
      ],
      "metadata": {
        "colab": {
          "base_uri": "https://localhost:8080/"
        },
        "id": "dp3kiy462BZj",
        "outputId": "c5066444-8301-4edd-e174-30d1d1f7c58d"
      },
      "execution_count": null,
      "outputs": [
        {
          "output_type": "stream",
          "name": "stdout",
          "text": [
            "Hello,python programmer!\n"
          ]
        }
      ]
    },
    {
      "cell_type": "markdown",
      "source": [
        "####Function with multiple parameters"
      ],
      "metadata": {
        "id": "sey1khfO2Mx7"
      }
    },
    {
      "cell_type": "code",
      "source": [
        "def calculate_area(length,width):\n",
        "  area=length*width\n",
        "  return area"
      ],
      "metadata": {
        "id": "j8FC3oX72R0y"
      },
      "execution_count": null,
      "outputs": []
    },
    {
      "cell_type": "markdown",
      "source": [
        "####Test the function"
      ],
      "metadata": {
        "id": "kz8gHbtK2cDc"
      }
    },
    {
      "cell_type": "code",
      "source": [
        "room_area=calculate_area(12,10)\n",
        "print(f\"Room area:{room_area}square feet\")"
      ],
      "metadata": {
        "colab": {
          "base_uri": "https://localhost:8080/"
        },
        "id": "G2z58gGp2fAT",
        "outputId": "aaa9342d-8091-482c-aec6-7b8500668b1f"
      },
      "execution_count": null,
      "outputs": [
        {
          "output_type": "stream",
          "name": "stdout",
          "text": [
            "Room area:120square feet\n"
          ]
        }
      ]
    },
    {
      "cell_type": "markdown",
      "source": [
        "####Function with default parameters"
      ],
      "metadata": {
        "id": "JFwwr2bk2yDS"
      }
    },
    {
      "cell_type": "code",
      "source": [
        "def create_user_profile(name,age=18,location=\"Unknown\",active=True):\n",
        "  return{\n",
        "      \"name\":name,\n",
        "      \"age\":age,\n",
        "      \"location\":location,\n",
        "      \"active\":active\n",
        "  }"
      ],
      "metadata": {
        "id": "dXyVoKch24W1"
      },
      "execution_count": null,
      "outputs": []
    },
    {
      "cell_type": "markdown",
      "source": [
        "####Different ways to call"
      ],
      "metadata": {
        "id": "41kpDWUX4dKK"
      }
    },
    {
      "cell_type": "code",
      "source": [
        "profile1=create_user_profile(\"Alice\") #use defaults\n",
        "profile2=create_user_profile(\"Bob\",25) #override age\n",
        "profile3=create_user_profile(\"Charlie\",location=\"New York\",age=30) #named parameters\n",
        "\n",
        "print(f\"Profile1:{profile1}\")\n",
        "print(f\"Profile2:{profile2}\")\n",
        "print(f\"Profile3:{profile3}\")"
      ],
      "metadata": {
        "colab": {
          "base_uri": "https://localhost:8080/"
        },
        "id": "bPUCvXsP4gf7",
        "outputId": "b086b078-e4d3-4143-a397-97e3dcbc95ed"
      },
      "execution_count": null,
      "outputs": [
        {
          "output_type": "stream",
          "name": "stdout",
          "text": [
            "Profile1:{'name': 'Alice', 'age': 18, 'location': 'Unknown', 'active': True}\n",
            "Profile2:{'name': 'Bob', 'age': 25, 'location': 'Unknown', 'active': True}\n",
            "Profile3:{'name': 'Charlie', 'age': 30, 'location': 'New York', 'active': True}\n"
          ]
        }
      ]
    },
    {
      "cell_type": "markdown",
      "source": [
        "####Function returning multiple values\n",
        "\n",
        "\n",
        "\n",
        "\n",
        "\n",
        "\n",
        "\n"
      ],
      "metadata": {
        "id": "8RsK_RLu7Y76"
      }
    },
    {
      "cell_type": "code",
      "source": [
        "def analyze_text(text):\n",
        "  words=text.split()\n",
        "  word_count=len(words)\n",
        "  char_count=len(text)\n",
        "  char_count_no_spaces=len(text.replace(\" \" ,\"\"))\n",
        "\n",
        "  return word_count,char_count,char_count_no_spaces\n"
      ],
      "metadata": {
        "id": "wAMDJ0OU85NM"
      },
      "execution_count": null,
      "outputs": []
    },
    {
      "cell_type": "markdown",
      "source": [
        "####Test with sample text"
      ],
      "metadata": {
        "id": "ZfR3bueS9Ztr"
      }
    },
    {
      "cell_type": "code",
      "source": [
        "sample_text =\"python is a powerful programming language\"\n",
        "\n",
        "words,chars,chars_no_space=analyze_text(sample_text)\n",
        "\n",
        "print(f\"Text:'{sample_text}'\")\n",
        "print(f\"Word count:{words}\")\n",
        "print(f\"Charater count:{chars}\")\n",
        "print(f\"Charater(no_spaces):{chars_no_space}\")"
      ],
      "metadata": {
        "colab": {
          "base_uri": "https://localhost:8080/"
        },
        "id": "IzJ7ztLg7ZMJ",
        "outputId": "a3612384-0920-4dbd-a17c-e41c1cfa7053"
      },
      "execution_count": null,
      "outputs": [
        {
          "output_type": "stream",
          "name": "stdout",
          "text": [
            "Text:'python is a powerful programming language'\n",
            "Word count:6\n",
            "Charater count:41\n",
            "Charater(no_spaces):36\n"
          ]
        }
      ]
    },
    {
      "cell_type": "markdown",
      "source": [
        "####Variable-length arguments"
      ],
      "metadata": {
        "id": "5PUe_m_6_ys9"
      }
    },
    {
      "cell_type": "code",
      "source": [
        "def calculate_average(*numbers):\n",
        "  if not numbers:\n",
        "    return 0\n",
        "\n",
        "  return sum(numbers)/len(numbers)"
      ],
      "metadata": {
        "id": "G-b1QPrH_3kM"
      },
      "execution_count": null,
      "outputs": []
    },
    {
      "cell_type": "markdown",
      "source": [
        "####Test with different numbers of arguments"
      ],
      "metadata": {
        "id": "C4rtfmNRAIhM"
      }
    },
    {
      "cell_type": "code",
      "source": [
        "avg1=calculate_average(10,20,30)\n",
        "avg2=calculate_average(5,15,25,35,45)\n",
        "avg3=calculate_average(100)\n",
        "\n",
        "\n",
        "print(f\"Average of 10,20,30:{avg1}\")\n",
        "print(f\"Average of 5,15,25,35,45:{avg2}\")\n",
        "print(f\"Average of 100:{avg3}\")"
      ],
      "metadata": {
        "colab": {
          "base_uri": "https://localhost:8080/"
        },
        "id": "b_FN1lQjANTk",
        "outputId": "8a02356a-47d4-42bb-cb02-67f01890c1dd"
      },
      "execution_count": null,
      "outputs": [
        {
          "output_type": "stream",
          "name": "stdout",
          "text": [
            "Average of 10,20,30:20.0\n",
            "Average of 5,15,25,35,45:25.0\n",
            "Average of 100:100.0\n"
          ]
        }
      ]
    },
    {
      "cell_type": "markdown",
      "source": [
        "####keyword arguments"
      ],
      "metadata": {
        "id": "erLTyEFJBLSr"
      }
    },
    {
      "cell_type": "code",
      "source": [
        "def create_report(**data):\n",
        "  print(\"==REPORT==\")\n",
        "\n",
        "  for key,value in data.items():\n",
        "    print(f\"{key.replace('_',' ').title()}:{value}\")\n",
        "\n",
        "  print(\"=================\")\n",
        "\n",
        "create_report(\n",
        "    title=\"Monthly Sales Report\",\n",
        "    data=\"2024-01-01\",\n",
        "    total_sales=15000,\n",
        "    new_customers=25,\n",
        "    returning_customers=150\n",
        ")"
      ],
      "metadata": {
        "colab": {
          "base_uri": "https://localhost:8080/"
        },
        "id": "qaF3l6b0BLgy",
        "outputId": "e83be7ac-3089-424e-d980-50c48ff61a7f"
      },
      "execution_count": null,
      "outputs": [
        {
          "output_type": "stream",
          "name": "stdout",
          "text": [
            "==REPORT==\n",
            "Title:Monthly Sales Report\n",
            "Data:2024-01-01\n",
            "Total Sales:15000\n",
            "New Customers:25\n",
            "Returning Customers:150\n",
            "=================\n"
          ]
        }
      ]
    },
    {
      "cell_type": "markdown",
      "source": [
        "###**Lambda Functions**\n",
        "\n",
        "Lambda function (anonymous function)"
      ],
      "metadata": {
        "id": "z10eE9jjDLQ8"
      }
    },
    {
      "cell_type": "markdown",
      "source": [
        "####Regular function"
      ],
      "metadata": {
        "id": "DUok-K25Dm4U"
      }
    },
    {
      "cell_type": "code",
      "source": [
        " def square(x):\n",
        "   return x**2"
      ],
      "metadata": {
        "id": "VbbSG2yRDWu0"
      },
      "execution_count": null,
      "outputs": []
    },
    {
      "cell_type": "markdown",
      "source": [
        "####Lambda equivalent"
      ],
      "metadata": {
        "id": "sYkWsmqfFjQ1"
      }
    },
    {
      "cell_type": "code",
      "source": [
        "square_lambda=lambda x:x**2\n",
        "print(f\"Regular function:{square(5)}\")\n",
        "print(f\"Lambda function:{square_lambda(5)}\")"
      ],
      "metadata": {
        "colab": {
          "base_uri": "https://localhost:8080/"
        },
        "id": "AJBOsd0sFnoE",
        "outputId": "7e3d5e73-a884-4c3a-991e-badda3506b9f"
      },
      "execution_count": null,
      "outputs": [
        {
          "output_type": "stream",
          "name": "stdout",
          "text": [
            "Regular function:25\n",
            "Lambda function:25\n"
          ]
        }
      ]
    },
    {
      "cell_type": "markdown",
      "source": [
        "####Lambda with multiple arguments"
      ],
      "metadata": {
        "id": "tOuRegf_G1_9"
      }
    },
    {
      "cell_type": "code",
      "source": [
        "multiply=lambda x,y:x*y\n",
        "print(f\"Multiply:{multiply(3,4)}\")"
      ],
      "metadata": {
        "colab": {
          "base_uri": "https://localhost:8080/"
        },
        "id": "8Vbr-eo5G6n1",
        "outputId": "7deee8e0-625c-4d3b-c389-b2b1568b805b"
      },
      "execution_count": null,
      "outputs": [
        {
          "output_type": "stream",
          "name": "stdout",
          "text": [
            "Multiply:12\n"
          ]
        }
      ]
    },
    {
      "cell_type": "markdown",
      "source": [
        "####Lambda with bulit-in functions"
      ],
      "metadata": {
        "id": "OGwrs22RHGz1"
      }
    },
    {
      "cell_type": "code",
      "source": [
        "numbers=[1,2,3,4,5]\n",
        "squared=list(map(lambda x:x**2,numbers))\n",
        "print(f\"squared numbers:{squared}\")"
      ],
      "metadata": {
        "colab": {
          "base_uri": "https://localhost:8080/"
        },
        "id": "sR6gdBUDHLl8",
        "outputId": "9d21e2a0-9c9a-44ed-c63d-3128c66fc092"
      },
      "execution_count": null,
      "outputs": [
        {
          "output_type": "stream",
          "name": "stdout",
          "text": [
            "squared numbers:[1, 4, 9, 16, 25]\n"
          ]
        }
      ]
    },
    {
      "cell_type": "markdown",
      "source": [
        "####Filtering with lambda"
      ],
      "metadata": {
        "id": "v0TgKBX2Hv0c"
      }
    },
    {
      "cell_type": "code",
      "source": [
        "ages=[16,21,35,12,45,18,67]\n",
        "adults=list(filter(lambda age:age>=18,ages))\n",
        "print(f\"Adult ages:{adults}\")"
      ],
      "metadata": {
        "colab": {
          "base_uri": "https://localhost:8080/"
        },
        "id": "qbcVcdtVIEib",
        "outputId": "e79b1f9b-8de7-418a-d26c-31c1172b5695"
      },
      "execution_count": null,
      "outputs": [
        {
          "output_type": "stream",
          "name": "stdout",
          "text": [
            "Adult ages:[21, 35, 45, 18, 67]\n"
          ]
        }
      ]
    },
    {
      "cell_type": "markdown",
      "source": [
        "####Sorting with lambda"
      ],
      "metadata": {
        "id": "i8gWL3T4Iwhd"
      }
    },
    {
      "cell_type": "code",
      "source": [
        "people=[\n",
        "    {\"name\":\"Alice\",\"age\":30},\n",
        "    {\"name\":\"Bob\",\"age\":25},\n",
        "    {\"name\":\"Charlie\",\"age\":35}\n",
        "]\n",
        "\n",
        "sorted_people=sorted(\n",
        "    people,\n",
        "    key=lambda person:person[\"age\"])\n",
        "print(\"People sorted by age\")\n",
        "\n",
        "for person in sorted_people:\n",
        "  print(f\"{person['name']}:{person['age']}\")"
      ],
      "metadata": {
        "colab": {
          "base_uri": "https://localhost:8080/"
        },
        "id": "NU1aQp5rIy9N",
        "outputId": "99c02c2b-0128-4c66-8a9e-7d2bdb56847b"
      },
      "execution_count": null,
      "outputs": [
        {
          "output_type": "stream",
          "name": "stdout",
          "text": [
            "People sorted by age\n",
            "Bob:25\n",
            "Alice:30\n",
            "Charlie:35\n"
          ]
        }
      ]
    }
  ]
}